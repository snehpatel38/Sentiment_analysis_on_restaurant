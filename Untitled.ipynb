{
 "cells": [
  {
   "cell_type": "markdown",
   "id": "76658d71-6c64-49e9-bb8b-19d567aab69a",
   "metadata": {},
   "source": [
    "## 1. Install and Import Dependencies"
   ]
  },
  {
   "cell_type": "code",
   "execution_count": 1,
   "id": "4dc0b4b1-5131-4b96-9642-f9aeb4d45586",
   "metadata": {
    "scrolled": true
   },
   "outputs": [
    {
     "name": "stdout",
     "output_type": "stream",
     "text": [
      "Looking in indexes: https://download.pytorch.org/whl/cu118\n",
      "Requirement already satisfied: torch in c:\\users\\snehp\\appdata\\local\\programs\\python\\python312\\lib\\site-packages (2.5.1+cu124)\n",
      "Requirement already satisfied: torchvision in c:\\users\\snehp\\appdata\\local\\programs\\python\\python312\\lib\\site-packages (0.20.1+cu124)\n",
      "Requirement already satisfied: torchaudio in c:\\users\\snehp\\appdata\\local\\programs\\python\\python312\\lib\\site-packages (2.5.1+cu124)\n",
      "Requirement already satisfied: filelock in c:\\users\\snehp\\appdata\\local\\programs\\python\\python312\\lib\\site-packages (from torch) (3.13.1)\n",
      "Requirement already satisfied: typing-extensions>=4.8.0 in c:\\users\\snehp\\appdata\\local\\programs\\python\\python312\\lib\\site-packages (from torch) (4.12.2)\n",
      "Requirement already satisfied: networkx in c:\\users\\snehp\\appdata\\local\\programs\\python\\python312\\lib\\site-packages (from torch) (3.2.1)\n",
      "Requirement already satisfied: jinja2 in c:\\users\\snehp\\appdata\\local\\programs\\python\\python312\\lib\\site-packages (from torch) (3.1.4)\n",
      "Requirement already satisfied: fsspec in c:\\users\\snehp\\appdata\\local\\programs\\python\\python312\\lib\\site-packages (from torch) (2024.2.0)\n",
      "Requirement already satisfied: setuptools in c:\\users\\snehp\\appdata\\local\\programs\\python\\python312\\lib\\site-packages (from torch) (75.1.0)\n",
      "Requirement already satisfied: sympy==1.13.1 in c:\\users\\snehp\\appdata\\local\\programs\\python\\python312\\lib\\site-packages (from torch) (1.13.1)\n",
      "Requirement already satisfied: mpmath<1.4,>=1.1.0 in c:\\users\\snehp\\appdata\\local\\programs\\python\\python312\\lib\\site-packages (from sympy==1.13.1->torch) (1.3.0)\n",
      "Requirement already satisfied: numpy in c:\\users\\snehp\\appdata\\local\\programs\\python\\python312\\lib\\site-packages (from torchvision) (2.1.1)\n",
      "Requirement already satisfied: pillow!=8.3.*,>=5.3.0 in c:\\users\\snehp\\appdata\\local\\programs\\python\\python312\\lib\\site-packages (from torchvision) (10.4.0)\n",
      "Requirement already satisfied: MarkupSafe>=2.0 in c:\\users\\snehp\\appdata\\local\\programs\\python\\python312\\lib\\site-packages (from jinja2->torch) (2.1.5)\n"
     ]
    }
   ],
   "source": [
    "!pip install torch torchvision torchaudio --index-url https://download.pytorch.org/whl/cu118"
   ]
  },
  {
   "cell_type": "code",
   "execution_count": 2,
   "id": "273f87dc-665d-4c68-a63b-ea2da3bcd9e4",
   "metadata": {
    "scrolled": true
   },
   "outputs": [
    {
     "name": "stdout",
     "output_type": "stream",
     "text": [
      "Requirement already satisfied: transformers in c:\\users\\snehp\\appdata\\local\\programs\\python\\python312\\lib\\site-packages (4.46.2)\n",
      "Requirement already satisfied: requests in c:\\users\\snehp\\appdata\\local\\programs\\python\\python312\\lib\\site-packages (2.32.3)\n",
      "Requirement already satisfied: beautifulsoup4 in c:\\users\\snehp\\appdata\\local\\programs\\python\\python312\\lib\\site-packages (4.12.3)\n",
      "Requirement already satisfied: pandas in c:\\users\\snehp\\appdata\\local\\programs\\python\\python312\\lib\\site-packages (2.2.3)\n",
      "Requirement already satisfied: numpy in c:\\users\\snehp\\appdata\\local\\programs\\python\\python312\\lib\\site-packages (2.1.1)\n",
      "Requirement already satisfied: filelock in c:\\users\\snehp\\appdata\\local\\programs\\python\\python312\\lib\\site-packages (from transformers) (3.13.1)\n",
      "Requirement already satisfied: huggingface-hub<1.0,>=0.23.2 in c:\\users\\snehp\\appdata\\local\\programs\\python\\python312\\lib\\site-packages (from transformers) (0.26.2)\n",
      "Requirement already satisfied: packaging>=20.0 in c:\\users\\snehp\\appdata\\local\\programs\\python\\python312\\lib\\site-packages (from transformers) (24.1)\n",
      "Requirement already satisfied: pyyaml>=5.1 in c:\\users\\snehp\\appdata\\local\\programs\\python\\python312\\lib\\site-packages (from transformers) (6.0.2)\n",
      "Requirement already satisfied: regex!=2019.12.17 in c:\\users\\snehp\\appdata\\local\\programs\\python\\python312\\lib\\site-packages (from transformers) (2024.9.11)\n",
      "Requirement already satisfied: safetensors>=0.4.1 in c:\\users\\snehp\\appdata\\local\\programs\\python\\python312\\lib\\site-packages (from transformers) (0.4.5)\n",
      "Requirement already satisfied: tokenizers<0.21,>=0.20 in c:\\users\\snehp\\appdata\\local\\programs\\python\\python312\\lib\\site-packages (from transformers) (0.20.3)\n",
      "Requirement already satisfied: tqdm>=4.27 in c:\\users\\snehp\\appdata\\local\\programs\\python\\python312\\lib\\site-packages (from transformers) (4.66.5)\n",
      "Requirement already satisfied: charset-normalizer<4,>=2 in c:\\users\\snehp\\appdata\\local\\programs\\python\\python312\\lib\\site-packages (from requests) (3.3.2)\n",
      "Requirement already satisfied: idna<4,>=2.5 in c:\\users\\snehp\\appdata\\local\\programs\\python\\python312\\lib\\site-packages (from requests) (3.10)\n",
      "Requirement already satisfied: urllib3<3,>=1.21.1 in c:\\users\\snehp\\appdata\\local\\programs\\python\\python312\\lib\\site-packages (from requests) (2.2.3)\n",
      "Requirement already satisfied: certifi>=2017.4.17 in c:\\users\\snehp\\appdata\\local\\programs\\python\\python312\\lib\\site-packages (from requests) (2024.8.30)\n",
      "Requirement already satisfied: soupsieve>1.2 in c:\\users\\snehp\\appdata\\local\\programs\\python\\python312\\lib\\site-packages (from beautifulsoup4) (2.6)\n",
      "Requirement already satisfied: python-dateutil>=2.8.2 in c:\\users\\snehp\\appdata\\local\\programs\\python\\python312\\lib\\site-packages (from pandas) (2.9.0.post0)\n",
      "Requirement already satisfied: pytz>=2020.1 in c:\\users\\snehp\\appdata\\local\\programs\\python\\python312\\lib\\site-packages (from pandas) (2024.2)\n",
      "Requirement already satisfied: tzdata>=2022.7 in c:\\users\\snehp\\appdata\\local\\programs\\python\\python312\\lib\\site-packages (from pandas) (2024.2)\n",
      "Requirement already satisfied: fsspec>=2023.5.0 in c:\\users\\snehp\\appdata\\local\\programs\\python\\python312\\lib\\site-packages (from huggingface-hub<1.0,>=0.23.2->transformers) (2024.2.0)\n",
      "Requirement already satisfied: typing-extensions>=3.7.4.3 in c:\\users\\snehp\\appdata\\local\\programs\\python\\python312\\lib\\site-packages (from huggingface-hub<1.0,>=0.23.2->transformers) (4.12.2)\n",
      "Requirement already satisfied: six>=1.5 in c:\\users\\snehp\\appdata\\local\\programs\\python\\python312\\lib\\site-packages (from python-dateutil>=2.8.2->pandas) (1.16.0)\n",
      "Requirement already satisfied: colorama in c:\\users\\snehp\\appdata\\local\\programs\\python\\python312\\lib\\site-packages (from tqdm>=4.27->transformers) (0.4.6)\n"
     ]
    }
   ],
   "source": [
    "!pip install transformers requests beautifulsoup4 pandas numpy"
   ]
  },
  {
   "cell_type": "code",
   "execution_count": null,
   "id": "c6937dd6-893f-400f-8c51-21129936f432",
   "metadata": {},
   "outputs": [],
   "source": [
    "from transformers import AutoTokenizer, AutoModelForSequenceClassification\n",
    "import torch\n",
    "import requests\n",
    "from bs4 import BeautifulSoup\n",
    "import re"
   ]
  },
  {
   "cell_type": "markdown",
   "id": "bd5d457c",
   "metadata": {},
   "source": [
    "## 2. Instantiate Model"
   ]
  },
  {
   "cell_type": "code",
   "execution_count": 4,
   "id": "96be9fb6-4323-4e6e-83bb-51cb87bcc1b6",
   "metadata": {},
   "outputs": [],
   "source": [
    "tokenizer = AutoTokenizer.from_pretrained('nlptown/bert-base-multilingual-uncased-sentiment')\n",
    "\n",
    "model = AutoModelForSequenceClassification.from_pretrained('nlptown/bert-base-multilingual-uncased-sentiment')"
   ]
  },
  {
   "cell_type": "markdown",
   "id": "9537109d",
   "metadata": {},
   "source": [
    "## 3. Encode and Calculate Sentiment"
   ]
  },
  {
   "cell_type": "code",
   "execution_count": 5,
   "id": "f9786a50",
   "metadata": {},
   "outputs": [],
   "source": [
    "tokens = tokenizer.encode('It was good but couldve been better. Great', return_tensors='pt')"
   ]
  },
  {
   "cell_type": "code",
   "execution_count": 6,
   "id": "3b48f1b4",
   "metadata": {},
   "outputs": [],
   "source": [
    "result = model(tokens)"
   ]
  },
  {
   "cell_type": "code",
   "execution_count": 7,
   "id": "aec04283",
   "metadata": {},
   "outputs": [
    {
     "data": {
      "text/plain": [
       "tensor([[-2.7768, -1.2353,  1.4419,  1.9804,  0.4584]],\n",
       "       grad_fn=<AddmmBackward0>)"
      ]
     },
     "execution_count": 7,
     "metadata": {},
     "output_type": "execute_result"
    }
   ],
   "source": [
    "result.logits"
   ]
  },
  {
   "cell_type": "code",
   "execution_count": 8,
   "id": "d4997aa7",
   "metadata": {},
   "outputs": [
    {
     "data": {
      "text/plain": [
       "4"
      ]
     },
     "execution_count": 8,
     "metadata": {},
     "output_type": "execute_result"
    }
   ],
   "source": [
    "int(torch.argmax(result.logits))+1"
   ]
  },
  {
   "cell_type": "markdown",
   "id": "decc6a75",
   "metadata": {},
   "source": [
    "## 4. Collect Reviews"
   ]
  },
  {
   "cell_type": "code",
   "execution_count": 19,
   "id": "b43a10fb",
   "metadata": {},
   "outputs": [],
   "source": [
    "r = requests.get('https://www.yelp.com/biz/bakers-en-roasters-amsterdam?osq=Cafes')\n",
    "soup = BeautifulSoup(r.text, 'html.parser')\n",
    "regex = re.compile('.*comment.*')\n",
    "results = soup.find_all('p', {'class':regex})\n",
    "reviews = [result.text for result in results]"
   ]
  },
  {
   "cell_type": "code",
   "execution_count": 20,
   "id": "f4ebfc26",
   "metadata": {},
   "outputs": [
    {
     "data": {
      "text/plain": [
       "[\"Stunning food - that's all that needs to be said. Outside of the complicated waitlist system (refreshing in the hopes the waitlist opens so that you can quickly type in your name), the rest is absolutely wonderful.I had the Eggs Royale and Pancakes and they were both so good. The smoked salmon is so flavorful.\",\n",
       " 'Very nice breakfast/brunch spot. We got the Dutch and vege breakfast plates for lunch on a rainy day. We had about a 15 minute wait on a weekday afternoon for lunch, guessing this place gets reallly popular over the weekends. It was close to the museums and the Heineken experience, so we made a pit stop here for lunch.The food was great, clean and fresh! Since they were so busy, it took forever to get the food. So if you are trying to keep an appointment, think twice.',\n",
       " 'Bakers & Roasters was so good, we went two days in a row! The portions are huge so my fiance and I shared a meal both times. For food, we had the Huevos Rancheros the first day (really good but more like a tostada) with the breakkie potatoes. We tried the Navajo Eggs the second day with sausage and their breakkie potatoes. This was our favorite meal. Everything was delicious and fresh. Their fresh sour cream is so good! For drinks, we tried their mimosas, margaritas, and White Russian. All were consistently good on both days. The White Russian was my favorite - they added caramel/toffee pieces on top which were so good! They get pretty busy, so arriving early is recommended. The service was fantastic - everyone was very friendly and the food/drinks all came out quickly. We sat on the patio both times to enjoy the nice weather. They were super dog-friendly, too! We will definitely be back!Meals, drinks, and the outside patio area are pictured below.',\n",
       " \"Came here for brunch one morning when I was in Amsterdam a couple of weeks ago. I came early enough that there wasn't a wait, nor did I need a reservation. I got their vege brekkie along with an iced latte. My food came out pretty quickly and I was pleased with my selection - the toast was amazing, the ingredients fresh, and all the components of this dish came together great. My coffee was quite good, and service was very attentive all throughout my time here. I have a feeling that you probably can't go too wrong with any of their items, and I'd certainly recommend anybody to come by here if they happen to find themselves in this part of town.\",\n",
       " \"Very nice on first impression! Greeted and seated in less than 2 minutes. This is a nice breakfast/brunch spot for two. The seating inside is really tight yet it still didn't feel overcrowded or too noisy.There were some good selections on the menu but I decided on the French toast with a side of scrambled eggs. The French toast was amazing! Good enough that I'll likely go back before leaving Amsterdam.There were a few different servers in rotation and they checked in often. There were no delays in service at all. I did have an espresso martini which paired very well with my meal.\",\n",
       " \"Really solid brunch place in a convenient part of town.  Portions were generous, but nothing felt too heavy; every component of our dishes felt fresh and healthful.  I'm not vegetarian but the veggie brekkie sounded delicious, and it was!Staff were friendly and attentive, and the atmosphere was both calm but energizing; it was a great way to start the day.\",\n",
       " \"Found this place online when i looked for best breakfast places. It didn't disappoint at all. The food was really good. The banana nut bread was sweet and didn't require any more syrup.\",\n",
       " 'Loved my eggs Benedict and green juice. Nice little brunch spot in Amsterdam. Will come back again when I visit.',\n",
       " \"My wife and I decided to try Bakers and Roasters for brunch on our last day of our trip in Amsterdam. We arrived right at 10 on a Sunday morning and it was a steady crowd, but there was a wait by the time we left. We were in and out of the restaurant in under an hour and it was some of the fastest service I've seen in Europe. The food could not have been better and we both thoroughly enjoyed what we ordered. We also enjoyed our drinks. The waitress was very friendly as well. My only pet peeve that could have made the meal better would have been to of had another foot of spacing from the other tables in each side of us. My wife and I were laughing about the discussion the people next to us were having after we left the restaurant. Would happily eat here regularly if I lived nearby.\",\n",
       " 'The food was fantastic and the service was GREAT!  Come with an appetite because the portions are huge and delicious!!Please see pics because how great they are  - is how great it ALL tasted!!!It is touted as brunch all day, so come on down and start your day off right!!']"
      ]
     },
     "execution_count": 20,
     "metadata": {},
     "output_type": "execute_result"
    }
   ],
   "source": [
    "reviews"
   ]
  },
  {
   "cell_type": "markdown",
   "id": "d7a1e200",
   "metadata": {},
   "source": [
    "## 5. Load Reviews into DataFrame and Score"
   ]
  },
  {
   "cell_type": "code",
   "execution_count": 21,
   "id": "d0207bca",
   "metadata": {},
   "outputs": [],
   "source": [
    "import numpy as np\n",
    "import pandas as pd"
   ]
  },
  {
   "cell_type": "code",
   "execution_count": 22,
   "id": "515b7b36",
   "metadata": {},
   "outputs": [],
   "source": [
    "df = pd.DataFrame(np.array(reviews), columns=['review'])"
   ]
  },
  {
   "cell_type": "code",
   "execution_count": 23,
   "id": "45375ef7",
   "metadata": {},
   "outputs": [
    {
     "data": {
      "text/plain": [
       "\"Stunning food - that's all that needs to be said. Outside of the complicated waitlist system (refreshing in the hopes the waitlist opens so that you can quickly type in your name), the rest is absolutely wonderful.I had the Eggs Royale and Pancakes and they were both so good. The smoked salmon is so flavorful.\""
      ]
     },
     "execution_count": 23,
     "metadata": {},
     "output_type": "execute_result"
    }
   ],
   "source": [
    "df['review'].iloc[0]"
   ]
  },
  {
   "cell_type": "code",
   "execution_count": 24,
   "id": "91a00fb6",
   "metadata": {},
   "outputs": [],
   "source": [
    "def sentiment_score(review):\n",
    "    tokens = tokenizer.encode(review, return_tensors='pt')\n",
    "    result = model(tokens)\n",
    "    return int(torch.argmax(result.logits))+1"
   ]
  },
  {
   "cell_type": "code",
   "execution_count": 25,
   "id": "d9b2581c",
   "metadata": {},
   "outputs": [
    {
     "data": {
      "text/plain": [
       "5"
      ]
     },
     "execution_count": 25,
     "metadata": {},
     "output_type": "execute_result"
    }
   ],
   "source": [
    "sentiment_score(df['review'].iloc[1])"
   ]
  },
  {
   "cell_type": "code",
   "execution_count": 26,
   "id": "b2658134",
   "metadata": {},
   "outputs": [],
   "source": [
    "df['sentiment'] = df['review'].apply(lambda x: sentiment_score(x[:512]))"
   ]
  },
  {
   "cell_type": "code",
   "execution_count": 27,
   "id": "0c92fedd",
   "metadata": {},
   "outputs": [
    {
     "data": {
      "text/html": [
       "<div>\n",
       "<style scoped>\n",
       "    .dataframe tbody tr th:only-of-type {\n",
       "        vertical-align: middle;\n",
       "    }\n",
       "\n",
       "    .dataframe tbody tr th {\n",
       "        vertical-align: top;\n",
       "    }\n",
       "\n",
       "    .dataframe thead th {\n",
       "        text-align: right;\n",
       "    }\n",
       "</style>\n",
       "<table border=\"1\" class=\"dataframe\">\n",
       "  <thead>\n",
       "    <tr style=\"text-align: right;\">\n",
       "      <th></th>\n",
       "      <th>review</th>\n",
       "      <th>sentiment</th>\n",
       "    </tr>\n",
       "  </thead>\n",
       "  <tbody>\n",
       "    <tr>\n",
       "      <th>0</th>\n",
       "      <td>Stunning food - that's all that needs to be sa...</td>\n",
       "      <td>5</td>\n",
       "    </tr>\n",
       "    <tr>\n",
       "      <th>1</th>\n",
       "      <td>Very nice breakfast/brunch spot. We got the Du...</td>\n",
       "      <td>5</td>\n",
       "    </tr>\n",
       "    <tr>\n",
       "      <th>2</th>\n",
       "      <td>Bakers &amp; Roasters was so good, we went two day...</td>\n",
       "      <td>5</td>\n",
       "    </tr>\n",
       "    <tr>\n",
       "      <th>3</th>\n",
       "      <td>Came here for brunch one morning when I was in...</td>\n",
       "      <td>5</td>\n",
       "    </tr>\n",
       "    <tr>\n",
       "      <th>4</th>\n",
       "      <td>Very nice on first impression! Greeted and sea...</td>\n",
       "      <td>4</td>\n",
       "    </tr>\n",
       "    <tr>\n",
       "      <th>5</th>\n",
       "      <td>Really solid brunch place in a convenient part...</td>\n",
       "      <td>5</td>\n",
       "    </tr>\n",
       "    <tr>\n",
       "      <th>6</th>\n",
       "      <td>Found this place online when i looked for best...</td>\n",
       "      <td>4</td>\n",
       "    </tr>\n",
       "    <tr>\n",
       "      <th>7</th>\n",
       "      <td>Loved my eggs Benedict and green juice. Nice l...</td>\n",
       "      <td>5</td>\n",
       "    </tr>\n",
       "    <tr>\n",
       "      <th>8</th>\n",
       "      <td>My wife and I decided to try Bakers and Roaste...</td>\n",
       "      <td>5</td>\n",
       "    </tr>\n",
       "    <tr>\n",
       "      <th>9</th>\n",
       "      <td>The food was fantastic and the service was GRE...</td>\n",
       "      <td>5</td>\n",
       "    </tr>\n",
       "  </tbody>\n",
       "</table>\n",
       "</div>"
      ],
      "text/plain": [
       "                                              review  sentiment\n",
       "0  Stunning food - that's all that needs to be sa...          5\n",
       "1  Very nice breakfast/brunch spot. We got the Du...          5\n",
       "2  Bakers & Roasters was so good, we went two day...          5\n",
       "3  Came here for brunch one morning when I was in...          5\n",
       "4  Very nice on first impression! Greeted and sea...          4\n",
       "5  Really solid brunch place in a convenient part...          5\n",
       "6  Found this place online when i looked for best...          4\n",
       "7  Loved my eggs Benedict and green juice. Nice l...          5\n",
       "8  My wife and I decided to try Bakers and Roaste...          5\n",
       "9  The food was fantastic and the service was GRE...          5"
      ]
     },
     "execution_count": 27,
     "metadata": {},
     "output_type": "execute_result"
    }
   ],
   "source": [
    "df"
   ]
  },
  {
   "cell_type": "code",
   "execution_count": 28,
   "id": "46cf47e2",
   "metadata": {},
   "outputs": [
    {
     "data": {
      "text/plain": [
       "\"Came here for brunch one morning when I was in Amsterdam a couple of weeks ago. I came early enough that there wasn't a wait, nor did I need a reservation. I got their vege brekkie along with an iced latte. My food came out pretty quickly and I was pleased with my selection - the toast was amazing, the ingredients fresh, and all the components of this dish came together great. My coffee was quite good, and service was very attentive all throughout my time here. I have a feeling that you probably can't go too wrong with any of their items, and I'd certainly recommend anybody to come by here if they happen to find themselves in this part of town.\""
      ]
     },
     "execution_count": 28,
     "metadata": {},
     "output_type": "execute_result"
    }
   ],
   "source": [
    "df['review'].iloc[3]"
   ]
  },
  {
   "cell_type": "code",
   "execution_count": null,
   "id": "500cbd82",
   "metadata": {},
   "outputs": [],
   "source": []
  }
 ],
 "metadata": {
  "kernelspec": {
   "display_name": "Python 3",
   "language": "python",
   "name": "python3"
  },
  "language_info": {
   "codemirror_mode": {
    "name": "ipython",
    "version": 3
   },
   "file_extension": ".py",
   "mimetype": "text/x-python",
   "name": "python",
   "nbconvert_exporter": "python",
   "pygments_lexer": "ipython3",
   "version": "3.12.7"
  }
 },
 "nbformat": 4,
 "nbformat_minor": 5
}
